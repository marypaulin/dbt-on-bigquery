{
 "cells": [
  {
   "cell_type": "markdown",
   "id": "8ac6ff0b",
   "metadata": {},
   "source": [
    "# Exploratory Data Analysis of theLook eCommerce"
   ]
  },
  {
   "cell_type": "code",
   "execution_count": 1,
   "id": "1e2fe879",
   "metadata": {},
   "outputs": [],
   "source": [
    "import pandas as pd\n",
    "import matplotlib.pyplot as plt\n",
    "import seaborn as sns\n",
    "import numpy as np"
   ]
  },
  {
   "cell_type": "code",
   "execution_count": null,
   "id": "1354edd6",
   "metadata": {},
   "outputs": [],
   "source": [
    "# Load the dataset"
   ]
  }
 ],
 "metadata": {
  "kernelspec": {
   "display_name": ".venv",
   "language": "python",
   "name": "python3"
  },
  "language_info": {
   "codemirror_mode": {
    "name": "ipython",
    "version": 3
   },
   "file_extension": ".py",
   "mimetype": "text/x-python",
   "name": "python",
   "nbconvert_exporter": "python",
   "pygments_lexer": "ipython3",
   "version": "3.10.13"
  }
 },
 "nbformat": 4,
 "nbformat_minor": 5
}
