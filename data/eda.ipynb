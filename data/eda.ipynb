{
 "cells": [
  {
   "cell_type": "markdown",
   "id": "8ac6ff0b",
   "metadata": {},
   "source": [
    "# Exploratory Data Analysis of theLook eCommerce"
   ]
  },
  {
   "cell_type": "code",
   "execution_count": null,
   "id": "1e2fe879",
   "metadata": {},
   "outputs": [],
   "source": [
    "import os\n",
    "\n",
    "import pandas as pd\n",
    "import seaborn as sns\n",
    "from dotenv import load_dotenv\n",
    "from ydata_profiling import ProfileReport"
   ]
  },
  {
   "cell_type": "code",
   "execution_count": null,
   "id": "1354edd6",
   "metadata": {},
   "outputs": [],
   "source": [
    "# Get filepaths from environment variables\n",
    "load_dotenv()\n",
    "RAW_DATA_PATH = os.getenv(\"RAW_DATA_PATH\")\n",
    "SOURCES_PATH = os.getenv(\"SOURCES_PATH\")"
   ]
  },
  {
   "cell_type": "code",
   "execution_count": null,
   "id": "8225e275",
   "metadata": {},
   "outputs": [],
   "source": [
    "# Load the dataset\n",
    "df = pd.read_parquet(RAW_DATA_PATH)"
   ]
  },
  {
   "cell_type": "code",
   "execution_count": null,
   "id": "b751fb1a",
   "metadata": {},
   "outputs": [],
   "source": [
    "# Mark id columns as categorical\n",
    "id_columns = [\n",
    "    \"id\",\n",
    "    \"order_id\",\n",
    "    \"user_id\",\n",
    "    \"product_id\",\n",
    "    \"inventory_item_id\"\n",
    "]\n",
    "\n",
    "for col in id_columns:\n",
    "    df[col] = df[col].astype(\"category\")"
   ]
  },
  {
   "cell_type": "code",
   "execution_count": null,
   "id": "30b92c3b",
   "metadata": {},
   "outputs": [],
   "source": [
    "# Generate the profiling report\n",
    "profile = ProfileReport(df,\n",
    "                        title=\"Data Profiling Report\",\n",
    "                        interactions=None,\n",
    "                        correlations=None,\n",
    "                        explorative=True)"
   ]
  },
  {
   "cell_type": "code",
   "execution_count": null,
   "id": "362a9db1",
   "metadata": {},
   "outputs": [],
   "source": [
    "# Print profile\n",
    "profile"
   ]
  }
 ],
 "metadata": {
  "kernelspec": {
   "display_name": ".venv",
   "language": "python",
   "name": "python3"
  },
  "language_info": {
   "codemirror_mode": {
    "name": "ipython",
    "version": 3
   },
   "file_extension": ".py",
   "mimetype": "text/x-python",
   "name": "python",
   "nbconvert_exporter": "python",
   "pygments_lexer": "ipython3",
   "version": "3.10.13"
  }
 },
 "nbformat": 4,
 "nbformat_minor": 5
}
